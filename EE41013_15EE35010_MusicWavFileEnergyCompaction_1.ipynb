{
 "cells": [
  {
   "cell_type": "code",
   "execution_count": 18,
   "metadata": {
    "collapsed": true
   },
   "outputs": [],
   "source": [
    "import numpy as np\n",
    "import wave\n",
    "from scipy.io import wavfile\n",
    "from scipy.fftpack import fft, ifft, dct, idct\n",
    "import random\n",
    "import matplotlib.pyplot as plt\n",
    "import math"
   ]
  },
  {
   "cell_type": "code",
   "execution_count": 32,
   "metadata": {
    "collapsed": false
   },
   "outputs": [
    {
     "data": {
      "text/plain": [
       "60"
      ]
     },
     "execution_count": 32,
     "metadata": {},
     "output_type": "execute_result"
    }
   ],
   "source": [
    "fs, data = wavfile.read(\"sound.wav\")\n",
    "z = data[2000:14000,1]\n",
    "N = len(z)\n",
    "L = [i for i in range(0,N,200)]\n",
    "len(L)"
   ]
  },
  {
   "cell_type": "code",
   "execution_count": 33,
   "metadata": {
    "collapsed": false
   },
   "outputs": [
    {
     "data": {
      "image/png": "[encoded data removed]",
      "text/plain": [
       "<matplotlib.figure.Figure at 0x197013c8ef0>"
      ]
     },
     "metadata": {},
     "output_type": "display_data"
    }
   ],
   "source": [
    "plt.plot(z)\n",
    "plt.show()"
   ]
  },
  {
   "cell_type": "code",
   "execution_count": 34,
   "metadata": {
    "collapsed": false
   },
   "outputs": [],
   "source": [
    "def modified_dft(x,N):\n",
    "    x_mod = []\n",
    "    for l in L:\n",
    "        y = [0]*N\n",
    "        for i in range(int(((N-l-1)/2))+ 1):\n",
    "            y[i] = x[i]\n",
    "        for j in range(int((N+l+1)/2),N):\n",
    "            y[j] = x[j]\n",
    "        x_mod.append(y)\n",
    "    return x_mod"
   ]
  },
  {
   "cell_type": "code",
   "execution_count": 35,
   "metadata": {
    "collapsed": true
   },
   "outputs": [],
   "source": [
    "def modified_dct(x, N):\n",
    "    x_mod = []\n",
    "    for l in L:\n",
    "        y = [0]*N\n",
    "        for i in range(N-l):\n",
    "            y[i] = x[i]\n",
    "        x_mod.append(y)\n",
    "    return x_mod"
   ]
  },
  {
   "cell_type": "code",
   "execution_count": 36,
   "metadata": {
    "collapsed": true
   },
   "outputs": [],
   "source": [
    "z_dct = dct(z, norm = 'ortho')\n",
    "mod_dct = modified_dct(z_dct,N)\n",
    "mod_idct = []\n",
    "for j in range(60):\n",
    "    mod_idct.append(idct(mod_dct[j],norm = 'ortho'))"
   ]
  },
  {
   "cell_type": "code",
   "execution_count": 37,
   "metadata": {
    "collapsed": true
   },
   "outputs": [],
   "source": [
    "z_dft = fft(z)\n",
    "mod_dft = modified_dft(z_dft,N)\n",
    "mod_idft = []\n",
    "for j in range(60):\n",
    "    mod_idft.append(ifft(mod_dft[j]))"
   ]
  },
  {
   "cell_type": "code",
   "execution_count": 45,
   "metadata": {
    "collapsed": true
   },
   "outputs": [],
   "source": [
    "e_dct = []\n",
    "for i in range(60):\n",
    "    e_dct.append((np.sum(abs(np.array(z)-np.array(mod_idct[i]))**2)) / N)"
   ]
  },
  {
   "cell_type": "code",
   "execution_count": 38,
   "metadata": {
    "collapsed": true
   },
   "outputs": [],
   "source": [
    "e_dft = []\n",
    "for i in range(60):\n",
    "    e_dft.append((np.sum(abs(np.array(z)-np.array(mod_idft[i]))**2)) / N)"
   ]
  },
  {
   "cell_type": "code",
   "execution_count": 39,
   "metadata": {
    "collapsed": false
   },
   "outputs": [],
   "source": [
    "#bit_precision\n",
    "b = []\n",
    "for i in range(1,len(L)):\n",
    "    b.append(16 * float(N - L[i])/L[i])"
   ]
  },
  {
   "cell_type": "code",
   "execution_count": 40,
   "metadata": {
    "collapsed": true
   },
   "outputs": [],
   "source": [
    "h2 = np.array([[1,1],[1,-1]])\n",
    "def haar_mat(n):\n",
    "    n = int(n)\n",
    "    if n == 1:\n",
    "        return h2\n",
    "    else:\n",
    "        a = np.kron(haar_mat(n-1),[1,1])\n",
    "        b = np.kron(np.identity(int(math.pow(2,n-1)))*math.pow(2,(n-1)/2.0),[1,-1])\n",
    "        #print(np.concatenate((a,b),axis=0))\n",
    "        return np.concatenate((a,b),axis=0)\n",
    "def haar(x):\n",
    "    return np.matmul(haar_mat(math.log(len(x),2)),np.transpose(x))"
   ]
  },
  {
   "cell_type": "code",
   "execution_count": 41,
   "metadata": {
    "collapsed": true
   },
   "outputs": [],
   "source": [
    "def inverse_haar(y):\n",
    "    n = int(math.log(len(y),2))\n",
    "    N = len(y)\n",
    "    hn = haar_mat(n)\n",
    "    return np.matmul(np.transpose(hn)/N,np.transpose(y))"
   ]
  },
  {
   "cell_type": "code",
   "execution_count": 42,
   "metadata": {
    "collapsed": false
   },
   "outputs": [],
   "source": [
    "x = np.array(z)\n",
    "z_haar = haar(x[0:8192])\n",
    "mod_haar = modified_dct(z_haar,8192)\n",
    "mod_ihaar = []\n",
    "for j in range(60):\n",
    "    mod_ihaar.append(inverse_haar(mod_haar[j]))"
   ]
  },
  {
   "cell_type": "code",
   "execution_count": 43,
   "metadata": {
    "collapsed": false
   },
   "outputs": [],
   "source": [
    "e_haar = []\n",
    "for i in range(60):\n",
    "    e_haar.append((np.sum(abs(x[0:8192]-np.array(mod_ihaar[i]))**2)) / 8192)"
   ]
  },
  {
   "cell_type": "code",
   "execution_count": 56,
   "metadata": {
    "collapsed": false
   },
   "outputs": [
    {
     "data": {
      "image/png": "[encoded data removed]",
      "text/plain": [
       "<matplotlib.figure.Figure at 0x19701400cf8>"
      ]
     },
     "metadata": {},
     "output_type": "display_data"
    }
   ],
   "source": [
    "plt.plot(b[0:59],e_dct[1:60],'g--', label = 'dct')\n",
    "plt.plot(b[0:59],e_dft[1:60], 'r-.', label = 'dft')\n",
    "plt.plot(b[0:59],e_haar[1:60], 'b', label = 'haar')\n",
    "plt.title(\"Energy v/s bit precision\")\n",
    "plt.show()"
   ]
  },
  {
   "cell_type": "code",
   "execution_count": 53,
   "metadata": {
    "collapsed": false
   },
   "outputs": [
    {
     "data": {
      "image/png": "[encoded data removed]",
      "text/plain": [
       "<matplotlib.figure.Figure at 0x197013acf60>"
      ]
     },
     "metadata": {},
     "output_type": "display_data"
    }
   ],
   "source": [
    "plt.plot(e_dct[1:60],'g--')\n",
    "plt.plot(e_dft[1:60], 'r-.')\n",
    "plt.plot(e_haar[1:60], 'b')\n",
    "plt.title(\"Energy v/s number of zero inputs\")\n",
    "plt.show()"
   ]
  },
  {
   "cell_type": "code",
   "execution_count": null,
   "metadata": {
    "collapsed": true
   },
   "outputs": [],
   "source": []
  }
 ],
 "metadata": {
  "kernelspec": {
   "display_name": "Python 3",
   "language": "python",
   "name": "python3"
  },
  "language_info": {
   "codemirror_mode": {
    "name": "ipython",
    "version": 3
   },
   "file_extension": ".py",
   "mimetype": "text/x-python",
   "name": "python",
   "nbconvert_exporter": "python",
   "pygments_lexer": "ipython3",
   "version": "3.6.0"
  }
 },
 "nbformat": 4,
 "nbformat_minor": 2
}
