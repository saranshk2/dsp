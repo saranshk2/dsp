{
 "cells": [
  {
   "cell_type": "code",
   "execution_count": 107,
   "metadata": {
    "collapsed": false
   },
   "outputs": [],
   "source": [
    "import numpy as np\n",
    "import wave\n",
    "from scipy.io import wavfile\n",
    "from scipy.fftpack import fft, ifft, dct, idct\n",
    "import random"
   ]
  },
  {
   "cell_type": "code",
   "execution_count": 108,
   "metadata": {
    "collapsed": false
   },
   "outputs": [],
   "source": [
    "fs, data = wavfile.read(\"sound81.wav\")"
   ]
  },
  {
   "cell_type": "code",
   "execution_count": 109,
   "metadata": {
    "collapsed": false
   },
   "outputs": [],
   "source": [
    "z = data[:,1]\n",
    "N = len(z)\n",
    "L = [i for i in range(0,N,200)]"
   ]
  },
  {
   "cell_type": "code",
   "execution_count": 110,
   "metadata": {
    "collapsed": false
   },
   "outputs": [
    {
     "data": {
      "text/plain": [
       "52"
      ]
     },
     "execution_count": 110,
     "metadata": {},
     "output_type": "execute_result"
    }
   ],
   "source": [
    "len(L)"
   ]
  },
  {
   "cell_type": "code",
   "execution_count": 111,
   "metadata": {
    "collapsed": false
   },
   "outputs": [],
   "source": [
    "def modified_dft(x,N):\n",
    "    x_mod = []\n",
    "    for l in L:\n",
    "        y = [0]*N\n",
    "        for i in range(int(((N-l-1)/2))+ 1):\n",
    "            y[i] = x[i]\n",
    "        for j in range(int((N+l+1)/2),N):\n",
    "            y[j] = x[j]\n",
    "        x_mod.append(y)\n",
    "    return x_mod"
   ]
  },
  {
   "cell_type": "code",
   "execution_count": 112,
   "metadata": {
    "collapsed": true
   },
   "outputs": [],
   "source": [
    "def modified_dct(x, N):\n",
    "    x_mod = []\n",
    "    for l in L:\n",
    "        y = [0]*N\n",
    "        for i in range(N-l):\n",
    "            y[i] = x[i]\n",
    "        x_mod.append(y)\n",
    "    return x_mod"
   ]
  },
  {
   "cell_type": "code",
   "execution_count": 113,
   "metadata": {
    "collapsed": false
   },
   "outputs": [],
   "source": [
    "z_dct = dct(z, norm = 'ortho')\n",
    "mod_dct = modified_dct(z_dct,N)\n",
    "mod_idct = []\n",
    "for j in range(52):\n",
    "    mod_idct.append(idct(mod_dct[j],norm = 'ortho'))\n"
   ]
  },
  {
   "cell_type": "code",
   "execution_count": 114,
   "metadata": {
    "collapsed": false
   },
   "outputs": [],
   "source": [
    "z_dft = fft(z)\n",
    "mod_dft = modified_dft(z_dft,N)\n",
    "mod_idft = []\n",
    "for j in range(52):\n",
    "    mod_idft.append(ifft(mod_dft[j]))\n",
    "#Energy Compaction in DFT"
   ]
  },
  {
   "cell_type": "code",
   "execution_count": 115,
   "metadata": {
    "collapsed": false
   },
   "outputs": [],
   "source": [
    "e_dct = []\n",
    "for i in range(52):\n",
    "    e_dct.append((np.sum(abs(np.array(z)-np.array(mod_idct[i]))**2)) / N)"
   ]
  },
  {
   "cell_type": "code",
   "execution_count": 116,
   "metadata": {
    "collapsed": false
   },
   "outputs": [],
   "source": [
    "e_dft = []\n",
    "for i in range(52):\n",
    "    e_dft.append((np.sum(abs(np.array(z)-np.array(mod_idft[i]))**2)) / N)\n"
   ]
  },
  {
   "cell_type": "code",
   "execution_count": 117,
   "metadata": {
    "collapsed": false
   },
   "outputs": [],
   "source": [
    "import matplotlib.pyplot as plt"
   ]
  },
  {
   "cell_type": "code",
   "execution_count": 118,
   "metadata": {
    "collapsed": false
   },
   "outputs": [],
   "source": [
    "b = []\n",
    "for i in range(1,52):\n",
    "    b.append(16 * float(N - L[i])/L[i])"
   ]
  },
  {
   "cell_type": "code",
   "execution_count": 119,
   "metadata": {
    "collapsed": false
   },
   "outputs": [
    {
     "data": {
      "image/png": "[encoded data removed]",
      "text/plain": [
       "<matplotlib.figure.Figure at 0x7fbec2a30410>"
      ]
     },
     "metadata": {},
     "output_type": "display_data"
    }
   ],
   "source": [
    "plt.plot(b[0:22],e_dct[1:23],'g')\n",
    "plt.plot(b[0:22],e_dft[1:23], 'r')\n",
    "plt.show()"
   ]
  },
  {
   "cell_type": "code",
   "execution_count": 120,
   "metadata": {
    "collapsed": false
   },
   "outputs": [
    {
     "data": {
      "text/plain": [
       "[5.1293281710143179e-13,\n",
       " 7.2207787819444933,\n",
       " 25.59149606540111,\n",
       " 398.40656734847744,\n",
       " 2485.8548554052272,\n",
       " 7417.9176490031268,\n",
       " 10869.972318497797,\n",
       " 20995.046522657853,\n",
       " 33765.808460282955,\n",
       " 40944.751091504913,\n",
       " 51178.335376009876,\n",
       " 59464.71611642986,\n",
       " 74774.522951496518,\n",
       " 80346.872597018126,\n",
       " 95089.634882442464,\n",
       " 133174.72455286444,\n",
       " 151569.55434306705,\n",
       " 187017.09305946797,\n",
       " 224421.51484424662,\n",
       " 322641.89649286924,\n",
       " 418421.69134625862,\n",
       " 491415.17958803894,\n",
       " 611675.14998885058,\n",
       " 691813.33216495044,\n",
       " 837053.15419574978,\n",
       " 894038.72655356559,\n",
       " 973080.46549936896,\n",
       " 1060500.3270270869,\n",
       " 1120575.4874238623,\n",
       " 1226046.3340367379,\n",
       " 1419814.231830461,\n",
       " 1705157.728615561,\n",
       " 1937173.3756353564,\n",
       " 2008069.7851032687,\n",
       " 2161867.0268258303,\n",
       " 2467403.7064118083,\n",
       " 2844316.2667836538,\n",
       " 3751488.6823644657,\n",
       " 3904847.8838635143,\n",
       " 4042622.4826193564,\n",
       " 4111080.3355966983,\n",
       " 4194105.7185784844,\n",
       " 4218681.0603972124,\n",
       " 4248734.888770137,\n",
       " 4263706.2116007619,\n",
       " 4268307.8628223576,\n",
       " 4273340.8390599107,\n",
       " 4274969.7289682999,\n",
       " 4277347.2132656071,\n",
       " 4277521.0285611302,\n",
       " 4277544.0016644364,\n",
       " 4277546.2749379287]"
      ]
     },
     "execution_count": 120,
     "metadata": {},
     "output_type": "execute_result"
    }
   ],
   "source": [
    "e_dct"
   ]
  },
  {
   "cell_type": "code",
   "execution_count": 121,
   "metadata": {
    "collapsed": false,
    "scrolled": false
   },
   "outputs": [
    {
     "data": {
      "text/plain": [
       "[1.74135272296791e-13,\n",
       " 7.2577360369812807,\n",
       " 25.627477866649318,\n",
       " 397.44145908975884,\n",
       " 2481.1032403753579,\n",
       " 7401.0823513100113,\n",
       " 10888.850605596952,\n",
       " 20951.479844191217,\n",
       " 33748.606728082828,\n",
       " 40959.742757254513,\n",
       " 51127.707404296634,\n",
       " 59462.733066695844,\n",
       " 74799.449144775572,\n",
       " 80339.25754161946,\n",
       " 95038.431332143271,\n",
       " 133083.08494613989,\n",
       " 151546.19055504628,\n",
       " 187021.13356037834,\n",
       " 224349.20136384192,\n",
       " 322612.43589868071,\n",
       " 417968.90174771671,\n",
       " 491269.40327373735,\n",
       " 611254.74218290008,\n",
       " 691819.37383816589,\n",
       " 837472.79767941753,\n",
       " 893126.23932059563,\n",
       " 973259.34399555821,\n",
       " 1060281.4325775024,\n",
       " 1120414.5260837164,\n",
       " 1226007.9486549739,\n",
       " 1417727.1355155115,\n",
       " 1705051.4296972528,\n",
       " 1935734.8713079605,\n",
       " 2008015.536395146,\n",
       " 2161869.6222399087,\n",
       " 2467319.8073041178,\n",
       " 2844560.9048769553,\n",
       " 3747914.5841613258,\n",
       " 3904753.1300358917,\n",
       " 4042578.3422026513,\n",
       " 4111002.5589909372,\n",
       " 4193713.8567624385,\n",
       " 4218695.5666879797,\n",
       " 4248752.3632202167,\n",
       " 4263664.6945063584,\n",
       " 4268305.4546610462,\n",
       " 4273341.4572472079,\n",
       " 4274969.4424457308,\n",
       " 4277346.495713545,\n",
       " 4277521.0303598074,\n",
       " 4277544.035006322,\n",
       " 4277546.2749729166]"
      ]
     },
     "execution_count": 121,
     "metadata": {},
     "output_type": "execute_result"
    }
   ],
   "source": [
    "e_dft"
   ]
  },
  {
   "cell_type": "code",
   "execution_count": null,
   "metadata": {
    "collapsed": true
   },
   "outputs": [],
   "source": []
  }
 ],
 "metadata": {
  "kernelspec": {
   "display_name": "Python 2",
   "language": "python",
   "name": "python2"
  },
  "language_info": {
   "codemirror_mode": {
    "name": "ipython",
    "version": 2
   },
   "file_extension": ".py",
   "mimetype": "text/x-python",
   "name": "python",
   "nbconvert_exporter": "python",
   "pygments_lexer": "ipython2",
   "version": "2.7.13"
  }
 },
 "nbformat": 4,
 "nbformat_minor": 2
}
