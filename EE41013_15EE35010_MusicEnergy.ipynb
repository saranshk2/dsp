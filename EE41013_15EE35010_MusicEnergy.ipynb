{
 "cells": [
  {
   "cell_type": "code",
   "execution_count": 107,
   "metadata": {
    "collapsed": false
   },
   "outputs": [],
   "source": [
    "import numpy as np\n",
    "import wave\n",
    "from scipy.io import wavfile\n",
    "from scipy.fftpack import fft, ifft, dct, idct\n",
    "import random"
   ]
  },
  {
   "cell_type": "code",
   "execution_count": 108,
   "metadata": {
    "collapsed": false
   },
   "outputs": [],
   "source": [
    "fs, data = wavfile.read(\"sound81.wav\")"
   ]
  },
  {
   "cell_type": "code",
   "execution_count": 109,
   "metadata": {
    "collapsed": false
   },
   "outputs": [],
   "source": [
    "z = data[:,1]\n",
    "N = len(z)\n",
    "L = [i for i in range(0,N,200)]"
   ]
  },
  {
   "cell_type": "code",
   "execution_count": 110,
   "metadata": {
    "collapsed": false
   },
   "outputs": [
    {
     "data": {
      "text/plain": [
       "52"
      ]
     },
     "execution_count": 110,
     "metadata": {},
     "output_type": "execute_result"
    }
   ],
   "source": [
    "len(L)"
   ]
  },
  {
   "cell_type": "code",
   "execution_count": 111,
   "metadata": {
    "collapsed": false
   },
   "outputs": [],
   "source": [
    "def modified_dft(x,N):\n",
    "    x_mod = []\n",
    "    for l in L:\n",
    "        y = [0]*N\n",
    "        for i in range(int(((N-l-1)/2))+ 1):\n",
    "            y[i] = x[i]\n",
    "        for j in range(int((N+l+1)/2),N):\n",
    "            y[j] = x[j]\n",
    "        x_mod.append(y)\n",
    "    return x_mod"
   ]
  },
  {
   "cell_type": "code",
   "execution_count": 112,
   "metadata": {
    "collapsed": true
   },
   "outputs": [],
   "source": [
    "def modified_dct(x, N):\n",
    "    x_mod = []\n",
    "    for l in L:\n",
    "        y = [0]*N\n",
    "        for i in range(N-l):\n",
    "            y[i] = x[i]\n",
    "        x_mod.append(y)\n",
    "    return x_mod"
   ]
  },
  {
   "cell_type": "code",
   "execution_count": null,
   "metadata": {
    "collapsed": false
   },
   "outputs": [],
   "source": [
    "z_dct = dct(z, norm = 'ortho')\n",
    "mod_dct = modified_dct(z_dct,N)\n",
    "mod_idct = []\n",
    "for j in range(52):\n",
    "    mod_idct.append(idct(mod_dct[j],norm = 'ortho'))\n"
   ]
  },
  {
   "cell_type": "code",
   "execution_count": null,
   "metadata": {
    "collapsed": false
   },
   "outputs": [],
   "source": [
    "z_dft = fft(z)\n",
    "mod_dft = modified_dft(z_dft,N)\n",
    "mod_idft = []\n",
    "for j in range(52):\n",
    "    mod_idft.append(ifft(mod_dft[j]))\n",
    "#Energy Compaction in DFT"
   ]
  },
  {
   "cell_type": "code",
   "execution_count": null,
   "metadata": {
    "collapsed": false
   },
   "outputs": [],
   "source": [
    "e_dct = []\n",
    "for i in range(52):\n",
    "    e_dct.append((np.sum(abs(np.array(z)-np.array(mod_idct[i]))**2)) / N)"
   ]
  },
  {
   "cell_type": "code",
   "execution_count": null,
   "metadata": {
    "collapsed": false
   },
   "outputs": [],
   "source": [
    "e_dft = []\n",
    "for i in range(52):\n",
    "    e_dft.append((np.sum(abs(np.array(z)-np.array(mod_idft[i]))**2)) / N)\n"
   ]
  },
  {
   "cell_type": "code",
   "execution_count": null,
   "metadata": {
    "collapsed": false
   },
   "outputs": [],
   "source": [
    "import matplotlib.pyplot as plt"
   ]
  },
  {
   "cell_type": "code",
   "execution_count": null,
   "metadata": {
    "collapsed": false
   },
   "outputs": [],
   "source": [
    "b = []\n",
    "for i in range(1,52):\n",
    "    b.append(16 * float(N - L[i])/L[i])"
   ]
  },
  {
   "cell_type": "code",
   "execution_count": null,
   "metadata": {
    "collapsed": false
   },
   "outputs": [],
   "source": [
    "plt.plot(b[0:22],e_dct[1:23],'g')\n",
    "plt.plot(b[0:22],e_dft[1:23], 'r')\n",
    "plt.show()"
   ]
  },
  {
   "cell_type": "code",
   "execution_count": 75,
   "metadata": {
    "collapsed": false
   },
   "outputs": [
    {
     "data": {
      "text/plain": [
       "[207754669.28150138,\n",
       " 229746778.34522349,\n",
       " 249087944.78362548,\n",
       " 270362952.20234644,\n",
       " 292603757.12150323,\n",
       " 314615390.09194785,\n",
       " 335674654.55462146,\n",
       " 358289826.78870481,\n",
       " 378519394.75760198,\n",
       " 400044688.426467]"
      ]
     },
     "execution_count": 75,
     "metadata": {},
     "output_type": "execute_result"
    }
   ],
   "source": [
    "e_dct"
   ]
  },
  {
   "cell_type": "code",
   "execution_count": 76,
   "metadata": {
    "collapsed": false,
    "scrolled": false
   },
   "outputs": [
    {
     "data": {
      "text/plain": [
       "[207758026.15583867,\n",
       " 229764262.40533292,\n",
       " 249132459.70310923,\n",
       " 270389647.21573257,\n",
       " 292611777.7190249,\n",
       " 314666845.67502171,\n",
       " 335685113.48576355,\n",
       " 358266105.57537657,\n",
       " 378549194.83794361,\n",
       " 400042484.60888475]"
      ]
     },
     "execution_count": 76,
     "metadata": {},
     "output_type": "execute_result"
    }
   ],
   "source": [
    "e_dft"
   ]
  }
 ],
 "metadata": {
  "kernelspec": {
   "display_name": "Python 2",
   "language": "python",
   "name": "python2"
  },
  "language_info": {
   "codemirror_mode": {
    "name": "ipython",
    "version": 2
   },
   "file_extension": ".py",
   "mimetype": "text/x-python",
   "name": "python",
   "nbconvert_exporter": "python",
   "pygments_lexer": "ipython2",
   "version": "2.7.13"
  }
 },
 "nbformat": 4,
 "nbformat_minor": 2
}
