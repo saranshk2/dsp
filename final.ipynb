{
 "cells": [
  {
   "cell_type": "code",
   "execution_count": 1,
   "metadata": {
    "collapsed": true
   },
   "outputs": [],
   "source": [
    "import numpy as np\n",
    "import pandas as pd\n",
    "import cmath\n",
    "import math\n",
    "import random\n",
    "import matplotlib.pyplot as plt"
   ]
  },
  {
   "cell_type": "code",
   "execution_count": 19,
   "metadata": {
    "collapsed": true
   },
   "outputs": [],
   "source": [
    "def dct(x,N):\n",
    "    #W = complex(math.cos(2*math.pi/2*N), -math.sin(2*math.pi/2*N))\n",
    "    Z = [0]*(N)\n",
    "    for k in range(N):\n",
    "        for i in range(N):\n",
    "            Z[k] = Z[k] + 2*x[i]*math.cos(math.pi * k * (2*i + 1)/ (2 *N))\n",
    "    return Z"
   ]
  },
  {
   "cell_type": "code",
   "execution_count": 20,
   "metadata": {
    "collapsed": true
   },
   "outputs": [],
   "source": [
    "def idct(x,N):\n",
    "#    print(x)\n",
    "    #W = complex(math.cos(2*math.pi/2*N), -math.sin(2*math.pi/2*N))\n",
    "    Z = [0]*(N)\n",
    "    for n in range(N):\n",
    "        for k in range(N):\n",
    "            if(k == 0):\n",
    "                Z[n] = Z[n] + (1/2)*x[k]*math.cos(math.pi * k * (2*n + 1)/ (2 *N))\n",
    "            else:\n",
    "                Z[n] = Z[n] + x[k]*math.cos(math.pi * k * (2*n + 1)/ (2 *N))\n",
    "        \n",
    "                \n",
    "        Z[n] = (1/N) * Z[n]\n",
    "#    print(Z)\n",
    "    return Z"
   ]
  },
  {
   "cell_type": "code",
   "execution_count": 21,
   "metadata": {
    "collapsed": true
   },
   "outputs": [],
   "source": [
    "def dft(x,N):\n",
    "    W = complex(math.cos(2*math.pi/N), -math.sin(2*math.pi/N))\n",
    "    W_matrix = np.ndarray(shape=(N,N), dtype=np.complex128)\n",
    "    for i in range(N):\n",
    "        for j in range(N):\n",
    "            W_matrix[i][j] = (W**(i*j))\n",
    "    x = np.matrix(x)\n",
    "    return np.array(W_matrix.dot(x.T))[:,0]"
   ]
  },
  {
   "cell_type": "code",
   "execution_count": 22,
   "metadata": {
    "collapsed": true
   },
   "outputs": [],
   "source": [
    "def idft(x,N):\n",
    "    W = complex(math.cos(2*math.pi/N), -math.sin(2*math.pi/N))\n",
    "    W_matrix = np.ndarray(shape=(N,N), dtype=np.complex128)\n",
    "    for i in range(N):\n",
    "        for j in range(N):\n",
    "            W_matrix[i][j] = 1/(W**(i*j))\n",
    "    x = np.matrix(x)\n",
    "    return (1/N)*np.array(W_matrix.dot(x.T))[:,0]"
   ]
  },
  {
   "cell_type": "code",
   "execution_count": 23,
   "metadata": {
    "collapsed": true
   },
   "outputs": [],
   "source": [
    "h2 = np.array([[1,1],[1,-1]])\n",
    "def haar_mat(n):\n",
    "    n = int(n)\n",
    "    if n == 1:\n",
    "        return h2\n",
    "    else:\n",
    "        a = np.kron(haar_mat(n-1),[1,1])\n",
    "        b = np.kron(np.identity(int(math.pow(2,n-1)))*math.pow(2,(n-1)/2.0),[1,-1])\n",
    "        #print(np.concatenate((a,b),axis=0))\n",
    "        return np.concatenate((a,b),axis=0)\n",
    "def haar(x):\n",
    "    return np.matmul(haar_mat(math.log(len(x),2)),np.transpose(x))"
   ]
  },
  {
   "cell_type": "code",
   "execution_count": 24,
   "metadata": {
    "collapsed": true
   },
   "outputs": [],
   "source": [
    "def inverse_haar(y):\n",
    "    n = int(math.log(len(y),2))\n",
    "    N = len(y)\n",
    "    hn = haar_mat(n)\n",
    "    return np.matmul(np.transpose(hn)/N,np.transpose(y))"
   ]
  },
  {
   "cell_type": "code",
   "execution_count": 25,
   "metadata": {
    "collapsed": true
   },
   "outputs": [],
   "source": [
    "L = [i for i in range(64)]\n",
    "def modified_dct(x, N):\n",
    "    x_mod = []\n",
    "    for l in L:\n",
    "        y = [0]*N\n",
    "        for i in range(N-l):\n",
    "            y[i] = x[i]\n",
    "        x_mod.append(y)\n",
    "    return x_mod"
   ]
  },
  {
   "cell_type": "code",
   "execution_count": 26,
   "metadata": {
    "collapsed": false
   },
   "outputs": [],
   "source": [
    "def modified_dft(x,N):\n",
    "    x_mod = []\n",
    "    for l in L:\n",
    "        y = [0]*N\n",
    "        for i in range(int(((N-l-1)/2))+ 1):\n",
    "            y[i] = x[i]\n",
    "        for j in range(int((N+l+1)/2),N):\n",
    "            y[j] = x[j]\n",
    "        x_mod.append(y)\n",
    "    return x_mod"
   ]
  },
  {
   "cell_type": "code",
   "execution_count": 27,
   "metadata": {
    "collapsed": true
   },
   "outputs": [],
   "source": [
    "def modified_haar(x, N):\n",
    "    x_mod = []\n",
    "    for l in L:\n",
    "        y = [0]*N\n",
    "        for i in range(N-l):\n",
    "            y[i] = x[i]\n",
    "        x_mod.append(y)\n",
    "    return x_mod"
   ]
  },
  {
   "cell_type": "code",
   "execution_count": 28,
   "metadata": {
    "collapsed": false
   },
   "outputs": [],
   "source": [
    "#Array Input of length 64\n",
    "z = []\n",
    "z_ = []\n",
    "N = 64\n",
    "for i in range(N):\n",
    "    z.append(random.uniform(0, 100))\n",
    "for i in range(N):\n",
    "    z_.append(complex(z[i]))"
   ]
  },
  {
   "cell_type": "code",
   "execution_count": 29,
   "metadata": {
    "collapsed": true
   },
   "outputs": [],
   "source": [
    "z_dct = dct(z,N)\n",
    "mod_dct = modified_dct(z_dct,N)\n",
    "mod_idct = []\n",
    "for j in range(N):\n",
    "    mod_idct.append(idct(mod_dct[j],N))"
   ]
  },
  {
   "cell_type": "code",
   "execution_count": 30,
   "metadata": {
    "collapsed": false
   },
   "outputs": [],
   "source": [
    "#Energy Compaction in DCT\n",
    "e_dct = []\n",
    "for i in range(N):\n",
    "    e_dct.append((np.sum(abs(np.array(z)-np.array(mod_idct[i]))**2)) / N)"
   ]
  },
  {
   "cell_type": "code",
   "execution_count": 31,
   "metadata": {
    "collapsed": false
   },
   "outputs": [],
   "source": [
    "z_dft = dft(z_,N)\n",
    "mod_dft = modified_dft(z_dft,N)\n",
    "mod_idft = []\n",
    "for j in range(N):\n",
    "    mod_idft.append(idft(mod_dft[j],N))"
   ]
  },
  {
   "cell_type": "code",
   "execution_count": 32,
   "metadata": {
    "collapsed": false
   },
   "outputs": [],
   "source": [
    "#Energy Compaction in DFT\n",
    "e_dft = []\n",
    "for i in range(N):\n",
    "    e_dft.append((np.sum(abs(np.array(z_)-np.array(mod_idft[i]))**2)) / N)"
   ]
  },
  {
   "cell_type": "code",
   "execution_count": 33,
   "metadata": {
    "collapsed": false
   },
   "outputs": [],
   "source": [
    "x = np.array(z)\n",
    "z_haar = haar(x)\n",
    "mod_haar = modified_haar(z_haar,N)\n",
    "mod_ihaar = []\n",
    "for j in range(N):\n",
    "    mod_ihaar.append(inverse_haar(mod_haar[j]))"
   ]
  },
  {
   "cell_type": "code",
   "execution_count": 34,
   "metadata": {
    "collapsed": true
   },
   "outputs": [],
   "source": [
    "#Energy Compaction in Haar\n",
    "e_haar = []\n",
    "for i in range(N):\n",
    "    e_haar.append((np.sum(abs(x-np.array(mod_ihaar[i]))**2)) / N)"
   ]
  },
  {
   "cell_type": "code",
   "execution_count": 35,
   "metadata": {
    "collapsed": false
   },
   "outputs": [
    {
     "data": {
      "image/png": "[encoded data removed]",
      "text/plain": [
       "<matplotlib.figure.Figure at 0x21fb953a748>"
      ]
     },
     "metadata": {},
     "output_type": "display_data"
    }
   ],
   "source": [
    "plt.plot(e_dct,'g')\n",
    "plt.plot(e_dft, 'r')\n",
    "plt.plot(e_haar,'b')\n",
    "plt.show()"
   ]
  },
  {
   "cell_type": "code",
   "execution_count": null,
   "metadata": {
    "collapsed": true
   },
   "outputs": [],
   "source": []
  }
 ],
 "metadata": {
  "kernelspec": {
   "display_name": "Python 3",
   "language": "python",
   "name": "python3"
  },
  "language_info": {
   "codemirror_mode": {
    "name": "ipython",
    "version": 3
   },
   "file_extension": ".py",
   "mimetype": "text/x-python",
   "name": "python",
   "nbconvert_exporter": "python",
   "pygments_lexer": "ipython3",
   "version": "3.6.0"
  }
 },
 "nbformat": 4,
 "nbformat_minor": 2
}
